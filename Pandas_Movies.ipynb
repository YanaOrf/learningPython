{
 "cells": [
  {
   "cell_type": "code",
   "execution_count": 58,
   "metadata": {},
   "outputs": [],
   "source": [
    "import pandas as pd\n",
    "import numpy as np\n",
    "import matplotlib.pyplot as plt\n",
    "import statistics as stats"
   ]
  },
  {
   "cell_type": "code",
   "execution_count": 42,
   "metadata": {},
   "outputs": [],
   "source": [
    "movies=pd.read_csv(\"../../Data_sets/movies_2.csv\")"
   ]
  },
  {
   "cell_type": "code",
   "execution_count": 3,
   "metadata": {},
   "outputs": [
    {
     "data": {
      "text/plain": [
       "MovieID           0\n",
       "Title             1\n",
       "MPAA Rating       1\n",
       "Budget            1\n",
       "Gross             1\n",
       "Release Date      1\n",
       "Genre             1\n",
       "Runtime           1\n",
       "Rating          108\n",
       "Rating Count    108\n",
       "Summary         120\n",
       "dtype: int64"
      ]
     },
     "execution_count": 3,
     "metadata": {},
     "output_type": "execute_result"
    }
   ],
   "source": [
    "movies.isna().sum()"
   ]
  },
  {
   "cell_type": "code",
   "execution_count": 5,
   "metadata": {},
   "outputs": [
    {
     "name": "stdout",
     "output_type": "stream",
     "text": [
      "<class 'pandas.core.frame.DataFrame'>\n",
      "RangeIndex: 616 entries, 0 to 615\n",
      "Data columns (total 11 columns):\n",
      " #   Column        Non-Null Count  Dtype  \n",
      "---  ------        --------------  -----  \n",
      " 0   MovieID       616 non-null    int64  \n",
      " 1   Title         615 non-null    object \n",
      " 2   MPAA Rating   615 non-null    object \n",
      " 3   Budget        615 non-null    float64\n",
      " 4   Gross         615 non-null    float64\n",
      " 5   Release Date  615 non-null    object \n",
      " 6   Genre         615 non-null    object \n",
      " 7   Runtime       615 non-null    float64\n",
      " 8   Rating        508 non-null    float64\n",
      " 9   Rating Count  508 non-null    float64\n",
      " 10  Summary       496 non-null    object \n",
      "dtypes: float64(5), int64(1), object(5)\n",
      "memory usage: 53.1+ KB\n"
     ]
    }
   ],
   "source": [
    "movies.info()"
   ]
  },
  {
   "cell_type": "code",
   "execution_count": 43,
   "metadata": {},
   "outputs": [],
   "source": [
    "movies.drop(labels=\"Summary\",axis=1,inplace=True)"
   ]
  },
  {
   "cell_type": "code",
   "execution_count": 44,
   "metadata": {},
   "outputs": [],
   "source": [
    "movies.drop(labels=[615],axis=0,inplace=True)"
   ]
  },
  {
   "cell_type": "code",
   "execution_count": 45,
   "metadata": {},
   "outputs": [],
   "source": [
    "movies[\"Budget\"].dropna(axis=0,inplace=True)"
   ]
  },
  {
   "cell_type": "code",
   "execution_count": 11,
   "metadata": {},
   "outputs": [
    {
     "data": {
      "text/plain": [
       "MovieID           0\n",
       "Title             0\n",
       "MPAA Rating       0\n",
       "Budget            0\n",
       "Gross             0\n",
       "Release Date      0\n",
       "Genre             0\n",
       "Runtime           0\n",
       "Rating          107\n",
       "Rating Count    107\n",
       "dtype: int64"
      ]
     },
     "execution_count": 11,
     "metadata": {},
     "output_type": "execute_result"
    }
   ],
   "source": [
    "movies.isna().sum()"
   ]
  },
  {
   "cell_type": "code",
   "execution_count": 16,
   "metadata": {},
   "outputs": [
    {
     "name": "stdout",
     "output_type": "stream",
     "text": [
      "<class 'pandas.core.frame.DataFrame'>\n",
      "RangeIndex: 615 entries, 0 to 614\n",
      "Data columns (total 10 columns):\n",
      " #   Column        Non-Null Count  Dtype  \n",
      "---  ------        --------------  -----  \n",
      " 0   MovieID       615 non-null    int64  \n",
      " 1   Title         615 non-null    object \n",
      " 2   MPAA Rating   615 non-null    object \n",
      " 3   Budget        615 non-null    float64\n",
      " 4   Gross         615 non-null    float64\n",
      " 5   Release Date  615 non-null    object \n",
      " 6   Genre         615 non-null    object \n",
      " 7   Runtime       615 non-null    float64\n",
      " 8   Rating        508 non-null    float64\n",
      " 9   Rating Count  508 non-null    float64\n",
      "dtypes: float64(5), int64(1), object(4)\n",
      "memory usage: 48.2+ KB\n"
     ]
    }
   ],
   "source": [
    "movies.info()"
   ]
  },
  {
   "cell_type": "code",
   "execution_count": 46,
   "metadata": {},
   "outputs": [],
   "source": [
    "\n",
    "\n",
    "movies[\"Rating\"] = movies[\"Rating\"].astype(float)\n"
   ]
  },
  {
   "cell_type": "code",
   "execution_count": 23,
   "metadata": {},
   "outputs": [
    {
     "data": {
      "text/plain": [
       "MovieID           int64\n",
       "Title            object\n",
       "MPAA Rating      object\n",
       "Budget            int64\n",
       "Gross             int64\n",
       "Release Date     object\n",
       "Genre            object\n",
       "Runtime         float64\n",
       "Rating          float64\n",
       "Rating Count    float64\n",
       "dtype: object"
      ]
     },
     "execution_count": 23,
     "metadata": {},
     "output_type": "execute_result"
    }
   ],
   "source": [
    "movies.dtypes"
   ]
  },
  {
   "cell_type": "code",
   "execution_count": 47,
   "metadata": {},
   "outputs": [],
   "source": [
    "\n",
    "movies.rename(str.lower,axis=\"columns\",inplace=True)"
   ]
  },
  {
   "cell_type": "code",
   "execution_count": 48,
   "metadata": {},
   "outputs": [],
   "source": [
    "movies.rename(columns={\"mpaa rating\":\"mpaa_rating\",\"release date\":\"release_date\",\"rating count\":\"rating_count\"},inplace=True)"
   ]
  },
  {
   "cell_type": "code",
   "execution_count": 49,
   "metadata": {},
   "outputs": [
    {
     "data": {
      "text/plain": [
       "movieid           0\n",
       "title             0\n",
       "mpaa_rating       0\n",
       "budget            0\n",
       "gross             0\n",
       "release_date      0\n",
       "genre             0\n",
       "runtime           0\n",
       "rating          107\n",
       "rating_count    107\n",
       "dtype: int64"
      ]
     },
     "execution_count": 49,
     "metadata": {},
     "output_type": "execute_result"
    }
   ],
   "source": [
    "movies.isnull().sum()"
   ]
  },
  {
   "cell_type": "code",
   "execution_count": 56,
   "metadata": {},
   "outputs": [
    {
     "data": {
      "image/png": "[encoded data removed]",
      "text/plain": [
       "<Figure size 432x288 with 1 Axes>"
      ]
     },
     "metadata": {
      "needs_background": "light"
     },
     "output_type": "display_data"
    }
   ],
   "source": [
    "#Distribution RATING (negatevly skewed )\n",
    "\n",
    "plt.hist(movies[\"rating\"])\n",
    "plt.show()"
   ]
  },
  {
   "cell_type": "code",
   "execution_count": 71,
   "metadata": {},
   "outputs": [
    {
     "name": "stdout",
     "output_type": "stream",
     "text": [
      "median 7.2\n",
      "mean 6.917322834645666\n",
      "mode 6.9\n",
      "st_deviation 0.8880523223740002\n"
     ]
    }
   ],
   "source": [
    "print(\"median\", stats.median(movies[\"rating\"]))\n",
    "print(\"mean\",np.mean(movies[\"rating\"]))\n",
    "print(\"mode\", stats.mode(movies[\"rating\"]))\n",
    "print(\"st_deviation\",np.std(movies[\"rating\"]))\n",
    "\n",
    "\n"
   ]
  },
  {
   "cell_type": "code",
   "execution_count": 72,
   "metadata": {},
   "outputs": [],
   "source": [
    "movies[\"rating\"].fillna(value=movies[\"rating\"].median(),inplace=True)"
   ]
  },
  {
   "cell_type": "code",
   "execution_count": 74,
   "metadata": {},
   "outputs": [
    {
     "data": {
      "image/png": "[encoded data removed]",
      "text/plain": [
       "<Figure size 432x288 with 1 Axes>"
      ]
     },
     "metadata": {
      "needs_background": "light"
     },
     "output_type": "display_data"
    },
    {
     "name": "stdout",
     "output_type": "stream",
     "text": [
      "median 6.9\n",
      "mean 6.914308943089427\n",
      "mode 6.9\n",
      "st_deviation 0.8071369468037188\n"
     ]
    }
   ],
   "source": [
    "#Distribution RATING (Normal)\n",
    "# after replacing missing values\n",
    "\n",
    "plt.hist(movies[\"rating\"])\n",
    "plt.show()\n",
    "print(\"median\", stats.median(movies[\"rating\"]))\n",
    "print(\"mean\",np.mean(movies[\"rating\"]))\n",
    "print(\"mode\", stats.mode(movies[\"rating\"]))\n",
    "print(\"st_deviation\",np.std(movies[\"rating\"]))"
   ]
  },
  {
   "cell_type": "code",
   "execution_count": 77,
   "metadata": {},
   "outputs": [
    {
     "data": {
      "image/png": "[encoded data removed]",
      "text/plain": [
       "<Figure size 432x288 with 1 Axes>"
      ]
     },
     "metadata": {
      "needs_background": "light"
     },
     "output_type": "display_data"
    },
    {
     "name": "stdout",
     "output_type": "stream",
     "text": [
      "median 317843.0\n",
      "mean 339252.1200787402\n",
      "mode 91415.0\n",
      "st_deviation 321022.4018045004\n"
     ]
    }
   ],
   "source": [
    "#Distribution RATING_ COUNT (positvely skewed )\n",
    "plt.hist(movies[\"rating_count\"])\n",
    "plt.show()\n",
    "print(\"median\", stats.median(movies[\"rating_count\"]))\n",
    "print(\"mean\", np.mean(movies[\"rating_count\"]))\n",
    "print(\"mode\", stats.mode(movies[\"rating_count\"]))\n",
    "print(\"st_deviation\",np.std(movies[\"rating_count\"]))"
   ]
  },
  {
   "cell_type": "code",
   "execution_count": 78,
   "metadata": {},
   "outputs": [],
   "source": [
    "movies[\"rating_count\"].fillna(value=movies[\"rating_count\"].median(),inplace=True)"
   ]
  },
  {
   "cell_type": "code",
   "execution_count": 79,
   "metadata": {},
   "outputs": [
    {
     "data": {
      "image/png": "[encoded data removed]",
      "text/plain": [
       "<Figure size 432x288 with 1 Axes>"
      ]
     },
     "metadata": {
      "needs_background": "light"
     },
     "output_type": "display_data"
    },
    {
     "name": "stdout",
     "output_type": "stream",
     "text": [
      "median 240347.5\n",
      "mean 322044.3243902439\n",
      "mode 240347.5\n",
      "st_deviation 294161.93477745407\n"
     ]
    }
   ],
   "source": [
    "#Distribution RATING_count (Normal)\n",
    "# after replacing missing values\n",
    "\n",
    "plt.hist(movies[\"rating_count\"])\n",
    "plt.show()\n",
    "print(\"median\", stats.median(movies[\"rating_count\"]))\n",
    "print(\"mean\", np.mean(movies[\"rating_count\"]))\n",
    "print(\"mode\", stats.mode(movies[\"rating_count\"]))\n",
    "print(\"st_deviation\",np.std(movies[\"rating_count\"]))"
   ]
  }
 ],
 "metadata": {
  "kernelspec": {
   "display_name": "Python 3.9.12 ('base')",
   "language": "python",
   "name": "python3"
  },
  "language_info": {
   "codemirror_mode": {
    "name": "ipython",
    "version": 3
   },
   "file_extension": ".py",
   "mimetype": "text/x-python",
   "name": "python",
   "nbconvert_exporter": "python",
   "pygments_lexer": "ipython3",
   "version": "3.9.12"
  },
  "orig_nbformat": 4,
  "vscode": {
   "interpreter": {
    "hash": "4f338e99f52e5b6bee008873ae50057d4cf1f168c9cfc1cf280b04b08b9f750d"
   }
  }
 },
 "nbformat": 4,
 "nbformat_minor": 2
}
