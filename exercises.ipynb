{
 "cells": [
  {
   "cell_type": "code",
   "execution_count": 1,
   "metadata": {},
   "outputs": [
    {
     "name": "stdout",
     "output_type": "stream",
     "text": [
      "Jana\n"
     ]
    }
   ],
   "source": [
    "# Exercise 1\n",
    "my_name=\"Jana\"\n",
    "print(my_name)\n"
   ]
  },
  {
   "cell_type": "code",
   "execution_count": 2,
   "metadata": {},
   "outputs": [
    {
     "name": "stdout",
     "output_type": "stream",
     "text": [
      "30\n"
     ]
    }
   ],
   "source": [
    "# Exercise 2\n",
    "age=30\n",
    "print(age)"
   ]
  },
  {
   "cell_type": "code",
   "execution_count": 4,
   "metadata": {},
   "outputs": [
    {
     "name": "stdout",
     "output_type": "stream",
     "text": [
      "-2\n"
     ]
    }
   ],
   "source": [
    "# Exercise 3\n",
    "julia_age=32\n",
    "age_diff=age-julia_age\n",
    "print(age_diff)"
   ]
  },
  {
   "cell_type": "code",
   "execution_count": 5,
   "metadata": {},
   "outputs": [
    {
     "name": "stdout",
     "output_type": "stream",
     "text": [
      "You are older than 21\n"
     ]
    }
   ],
   "source": [
    "# Exercise 4\n",
    "if age>21:\n",
    "    print(\"You are older than 21\")\n",
    "else:\n",
    "    print(\"You are not older than 21\")\n"
   ]
  },
  {
   "cell_type": "code",
   "execution_count": 7,
   "metadata": {},
   "outputs": [
    {
     "name": "stdout",
     "output_type": "stream",
     "text": [
      "Julia is older than you\n"
     ]
    }
   ],
   "source": [
    "# Exercise 5\n",
    "if age>julia_age:\n",
    "    print(\"Julia is younger than you\")\n",
    "elif age<julia_age:\n",
    "    print(\"Julia is older than you\")\n",
    "else:\n",
    "    print(\"You have the same age as Julia \")"
   ]
  },
  {
   "cell_type": "code",
   "execution_count": 19,
   "metadata": {},
   "outputs": [
    {
     "name": "stdout",
     "output_type": "stream",
     "text": [
      "Jana\n",
      "Ursula\n",
      "Jana\n",
      "Killian\n",
      "Mirna\n",
      "Monika\n",
      "Ottavia\n",
      "Sandra\n",
      "Ursula\n"
     ]
    }
   ],
   "source": [
    "# Exercise 6\n",
    "class_members=['Ursula', 'Sandra','Monika','Mirna','Jana','Ottavia','Killian']\n",
    "class_members.sort()\n",
    "print(class_members[0])\n",
    "print(class_members[6])\n",
    "for members in class_members:\n",
    "    print(members)\n",
    "    "
   ]
  },
  {
   "cell_type": "code",
   "execution_count": 32,
   "metadata": {},
   "outputs": [
    {
     "name": "stdout",
     "output_type": "stream",
     "text": [
      "Ursula\n",
      "Sandra\n",
      "Monika\n",
      "Mirna\n",
      "Jana\n",
      "Ottavia\n",
      "Killian\n"
     ]
    }
   ],
   "source": [
    "# Exercise 6  v 2.0\n",
    "class_members=['Ursula', 'Sandra','Monika','Mirna','Jana','Ottavia','Killian']\n",
    "for members in class_members:\n",
    "    \n",
    "    print(members)\n"
   ]
  },
  {
   "cell_type": "code",
   "execution_count": 21,
   "metadata": {},
   "outputs": [
    {
     "name": "stdout",
     "output_type": "stream",
     "text": [
      "40\n",
      "30\n",
      "26\n",
      "30\n",
      "28\n",
      "30\n"
     ]
    }
   ],
   "source": [
    "# Exercise 7 CHECK AGE!!!!\n",
    "class_members_age=[40,25,30,26,30,28,30]\n",
    "for ages in class_members_age:\n",
    "    if ages %2==0:\n",
    "        print(ages)\n",
    "    "
   ]
  },
  {
   "cell_type": "code",
   "execution_count": 28,
   "metadata": {},
   "outputs": [
    {
     "name": "stdout",
     "output_type": "stream",
     "text": [
      "40\n",
      "30\n",
      "26\n",
      "30\n",
      "28\n",
      "30\n"
     ]
    }
   ],
   "source": [
    "# Exercise 7 CHECK AGE!!!! WHILE LOOP\n",
    "class_members_age=[40,25,30,26,30,28,30]\n",
    "i = 0\n",
    "while i <= len(class_members_age)-1:\n",
    "    if class_members_age[i] % 2 == 0:\n",
    "        print(class_members_age[i])\n",
    "    i= i+1 \n",
    "      \n",
    "        "
   ]
  },
  {
   "cell_type": "code",
   "execution_count": 26,
   "metadata": {},
   "outputs": [
    {
     "name": "stdout",
     "output_type": "stream",
     "text": [
      "7\n"
     ]
    }
   ],
   "source": [
    "class_members_age=[40,25,30,26,30,28,30]\n",
    "Leng= len(class_members_age)\n",
    "print(Leng)"
   ]
  },
  {
   "cell_type": "code",
   "execution_count": 7,
   "metadata": {},
   "outputs": [
    {
     "name": "stdout",
     "output_type": "stream",
     "text": [
      "4\n"
     ]
    }
   ],
   "source": [
    "# Exercise 8\n",
    "\n",
    "numbers=[43,12,7,4,90,345,21,745,69,73,8]\n",
    "print(min(numbers))\n"
   ]
  },
  {
   "cell_type": "code",
   "execution_count": 8,
   "metadata": {},
   "outputs": [
    {
     "name": "stdout",
     "output_type": "stream",
     "text": [
      "745\n"
     ]
    }
   ],
   "source": [
    "# Exercise 9\n",
    "\n",
    "numbers=[43,12,7,4,90,345,21,745,69,73,8]\n",
    "print(max(numbers))"
   ]
  },
  {
   "cell_type": "code",
   "execution_count": 30,
   "metadata": {},
   "outputs": [
    {
     "name": "stdout",
     "output_type": "stream",
     "text": [
      "1999\n",
      "1995\n",
      "2005\n",
      "2010\n",
      "2007\n",
      "2006\n",
      "1994\n",
      "1996\n",
      "1979\n",
      "2008\n"
     ]
    }
   ],
   "source": [
    "# Exercise 10\n",
    "customers_list=[1999, 1995, 2005, 2010, 2007, 2006, 1994, 1996, 1979, 2008]\n",
    "i=0\n",
    "while i<=len(customers_list)-1:\n",
    "    print(customers_list[i])\n",
    "    i=i+1\n"
   ]
  },
  {
   "cell_type": "code",
   "execution_count": 6,
   "metadata": {},
   "outputs": [
    {
     "name": "stdout",
     "output_type": "stream",
     "text": [
      "Bob 23\n",
      "Jack 27\n",
      "Lisa 17\n",
      "Maria 12\n",
      "Ben 15\n",
      "Emma 16\n",
      "Oscar 28\n",
      "Amy 26\n",
      "Paul 43\n",
      "Etta 14\n"
     ]
    }
   ],
   "source": [
    "# Exercise 11\n",
    "from unicodedata import name\n",
    "\n",
    "\n",
    "customer_list = [\n",
    "                    {\"name\": \"Bob\", \"age\": 1999},\n",
    "                    {\"name\": \"Jack\", \"age\": 1995},\n",
    "                    {\"name\": \"Lisa\", \"age\": 2005},\n",
    "                    {\"name\": \"Maria\", \"age\": 2010},\n",
    "                    {\"name\": \"Ben\", \"age\": 2007},\n",
    "                    {\"name\": \"Emma\", \"age\": 2006},\n",
    "                    {\"name\": \"Oscar\", \"age\": 1994},\n",
    "                    {\"name\": \"Amy\", \"age\": 1996},\n",
    "                    {\"name\": \"Paul\", \"age\": 1979},\n",
    "                    {\"name\": \"Etta\", \"age\": 2008}\n",
    "                ]\n",
    "i=0\n",
    "while i<=len(customer_list)-1:\n",
    "    print(customer_list[i][\"name\"],2022-customer_list[i][\"age\"])\n",
    "    i=i+1"
   ]
  },
  {
   "cell_type": "code",
   "execution_count": 22,
   "metadata": {},
   "outputs": [
    {
     "name": "stdout",
     "output_type": "stream",
     "text": [
      "Bob  is 23 years old\n",
      "Jack  is 27 years old\n",
      "Lisa  is 17 years old\n",
      "Maria  is 12 years old\n",
      "Ben  is 15 years old\n",
      "Emma  is 16 years old\n",
      "Oscar  is 28 years old\n",
      "Amy  is 26 years old\n",
      "Paul  is 43 years old\n",
      "Etta  is 14 years old\n"
     ]
    }
   ],
   "source": [
    "# Exercise 11 Part 2\n",
    "\n",
    "\n",
    "customer_list = [\n",
    "                    {\"name\": \"Bob\", \"age\": 1999},\n",
    "                    {\"name\": \"Jack\", \"age\": 1995},\n",
    "                    {\"name\": \"Lisa\", \"age\": 2005},\n",
    "                    {\"name\": \"Maria\", \"age\": 2010},\n",
    "                    {\"name\": \"Ben\", \"age\": 2007},\n",
    "                    {\"name\": \"Emma\", \"age\": 2006},\n",
    "                    {\"name\": \"Oscar\", \"age\": 1994},\n",
    "                    {\"name\": \"Amy\", \"age\": 1996},\n",
    "                    {\"name\": \"Paul\", \"age\": 1979},\n",
    "                    {\"name\": \"Etta\", \"age\": 2008}\n",
    "                ]\n",
    "\n",
    "i=0\n",
    "while i<=len(customer_list)-1:\n",
    "    print(customer_list[i][\"name\"],\" is\", 2022-customer_list[i][\"age\"],\"years old\")\n",
    "    i=i+1"
   ]
  },
  {
   "cell_type": "code",
   "execution_count": 14,
   "metadata": {},
   "outputs": [
    {
     "name": "stdout",
     "output_type": "stream",
     "text": [
      "[20, 24, 14, 12, 13, 25, 23, 11]\n"
     ]
    }
   ],
   "source": [
    "# Exercise 12 ( remove the youngest and the oldest person.)\n",
    "\n",
    "ages = [20, 24, 14, 9, 12, 13, 25, 23, 40, 11]\n",
    "def oldest(ages):\n",
    "    max_item=ages[0]\n",
    "    for num in ages:\n",
    "        if num > max_item:\n",
    "            max_item=num\n",
    "    return max_item\n",
    "def youngest(ages):\n",
    "    min_item=ages[0]\n",
    "    for num in ages:\n",
    "        if num < min_item:\n",
    "            min_item=num\n",
    "    return min_item     \n",
    "\n",
    "ages.remove(oldest(ages))\n",
    "ages.remove(youngest(ages))\n",
    "\n",
    "print (ages)\n",
    "#max_item=\n",
    "#ages.remove(min_item,max_item)\n"
   ]
  },
  {
   "cell_type": "code",
   "execution_count": 125,
   "metadata": {},
   "outputs": [
    {
     "name": "stdout",
     "output_type": "stream",
     "text": [
      "[11, 12, 13, 14, 20, 23, 24, 25]\n"
     ]
    }
   ],
   "source": [
    "# Exercise 12 v2\n",
    "ages = [20, 24, 14, 9, 12, 13, 25, 23, 40, 11]\n",
    "ages.sort()\n",
    "print(ages[1:-1])"
   ]
  },
  {
   "cell_type": "code",
   "execution_count": 82,
   "metadata": {},
   "outputs": [
    {
     "name": "stdout",
     "output_type": "stream",
     "text": [
      "[20, 24, 14, 12, 13, 25, 23, 11]\n"
     ]
    }
   ],
   "source": [
    "# Exercise 12 v3\n",
    "\n",
    "\n",
    "ages = [20, 24, 14, 9, 12, 13, 25, 23, 40, 11]\n",
    "ages.remove(min(ages))\n",
    "ages.remove(max(ages))\n",
    "print(ages)"
   ]
  },
  {
   "cell_type": "code",
   "execution_count": 137,
   "metadata": {},
   "outputs": [
    {
     "name": "stdout",
     "output_type": "stream",
     "text": [
      "[13, 15, 19, 18, 10, 16]\n"
     ]
    }
   ],
   "source": [
    "# Exercise 13 V1 (The task is to create an other list with the common ages.) NESTED LOOPS\n",
    "\n",
    "berlin = [15, 13, 16, 18, 19, 10, 12 ]\n",
    "munich = [7, 13, 15, 20, 19, 18, 10, 16]\n",
    "new_list=[]\n",
    "\n",
    "#outer loop\n",
    "for j in munich:\n",
    "    #inner loop\n",
    "    for g in berlin:\n",
    "        if g==j:\n",
    "            new_list.append(j)\n",
    "print(new_list)   "
   ]
  },
  {
   "cell_type": "code",
   "execution_count": 123,
   "metadata": {},
   "outputs": [
    {
     "name": "stdout",
     "output_type": "stream",
     "text": [
      "{10, 13, 15, 16, 18, 19}\n"
     ]
    }
   ],
   "source": [
    "# Exercise 13 V2\n",
    "\n",
    "berlin = [15, 13, 16, 18, 19, 10, 12 ]\n",
    "munich = [7, 13, 15, 20, 19, 18, 10, 16]\n",
    "set_berlin=set(berlin)\n",
    "set_munich=set(munich)\n",
    "result=print(set_berlin.intersection(set_munich))\n"
   ]
  },
  {
   "cell_type": "code",
   "execution_count": 145,
   "metadata": {},
   "outputs": [
    {
     "name": "stdout",
     "output_type": "stream",
     "text": [
      "[13, 16, 18, 19, 15, 10]\n"
     ]
    }
   ],
   "source": [
    "# Exercise 14 Remove the duplicates.\n",
    "ages=[15,13,16,18,19,15,10]\n",
    "for j in ages:\n",
    "    i=0\n",
    "    while i<=len(ages)-1:\n",
    "        if j==ages[i]:\n",
    "            ages.remove(j)\n",
    "            break\n",
    "    print(ages)\n",
    "    break\n",
    "    \n",
    "\n",
    "\n",
    "\n"
   ]
  },
  {
   "cell_type": "code",
   "execution_count": 20,
   "metadata": {},
   "outputs": [
    {
     "name": "stdout",
     "output_type": "stream",
     "text": [
      "Welcome Jost,have a nice day!\n",
      "Welcome Evelyn,have a nice day!\n"
     ]
    }
   ],
   "source": [
    "# Exercise 15\n",
    "def welcome(n):\n",
    "    print(\"Welcome \"+n+\",have a nice day!\")\n",
    "    return\n",
    "welcome(\"Jost\")\n",
    "welcome(\"Evelyn\")"
   ]
  },
  {
   "cell_type": "code",
   "execution_count": 23,
   "metadata": {},
   "outputs": [
    {
     "name": "stdout",
     "output_type": "stream",
     "text": [
      "5\n",
      "2\n"
     ]
    }
   ],
   "source": [
    "# Exercise 16\n",
    "def get_length(n):\n",
    "    print(len(n))\n",
    "    return\n",
    "get_length(\"Hello\")\n",
    "get_length(\"Hi\")"
   ]
  },
  {
   "cell_type": "code",
   "execution_count": 25,
   "metadata": {},
   "outputs": [
    {
     "name": "stdout",
     "output_type": "stream",
     "text": [
      "no\n",
      "yes\n"
     ]
    }
   ],
   "source": [
    "# Exercise 17\n",
    "def check_even(x):\n",
    "    if x%2==0:\n",
    "        print(\"yes\")\n",
    "    else:\n",
    "        print(\"no\")\n",
    "    return\n",
    "check_even(19)\n",
    "check_even(10)"
   ]
  },
  {
   "cell_type": "code",
   "execution_count": 4,
   "metadata": {},
   "outputs": [
    {
     "name": "stdout",
     "output_type": "stream",
     "text": [
      "Bob  is 23 years old\n",
      "Jack  is 27 years old\n",
      "Lisa  is 17 years old\n",
      "Maria  is 12 years old\n",
      "Ben  is 15 years old\n",
      "Emma  is 16 years old\n",
      "Oscar  is 28 years old\n",
      "Amy  is 26 years old\n",
      "Paul  is 43 years old\n",
      "Etta  is 14 years old\n"
     ]
    }
   ],
   "source": [
    "#Exercise 18 (11)\n",
    "customer_list = [\n",
    "                    {\"name\": \"Bob\", \"age\": 1999},\n",
    "                    {\"name\": \"Jack\", \"age\": 1995},\n",
    "                    {\"name\": \"Lisa\", \"age\": 2005},\n",
    "                    {\"name\": \"Maria\", \"age\": 2010},\n",
    "                    {\"name\": \"Ben\", \"age\": 2007},\n",
    "                    {\"name\": \"Emma\", \"age\": 2006},\n",
    "                    {\"name\": \"Oscar\", \"age\": 1994},\n",
    "                    {\"name\": \"Amy\", \"age\": 1996},\n",
    "                    {\"name\": \"Paul\", \"age\": 1979},\n",
    "                    {\"name\": \"Etta\", \"age\": 2008}\n",
    "                ]\n",
    "def customer_name(list_n):\n",
    "    i=0\n",
    "    while i<=len(customer_list)-1:\n",
    "        customer_list[i][\"age\"]=2022-customer_list[i][\"age\"]\n",
    "        print(customer_list[i][\"name\"],\" is\", customer_list[i][\"age\"],\"years old\")\n",
    "        i=i+1\n",
    "customer_name(customer_list)\n",
    "    "
   ]
  },
  {
   "cell_type": "code",
   "execution_count": 30,
   "metadata": {},
   "outputs": [
    {
     "name": "stdout",
     "output_type": "stream",
     "text": [
      "[20, 24, 14, 12, 13, 25, 23, 11]\n"
     ]
    }
   ],
   "source": [
    "#Exercise 18 (12)\n",
    "ages = [20, 24, 14, 9, 12, 13, 25, 23, 40, 11]\n",
    "def oldest(ages):\n",
    "    max_item=ages[0]\n",
    "    for num in ages:\n",
    "        if num > max_item:\n",
    "            max_item=num\n",
    "    return max_item\n",
    "def youngest(ages):\n",
    "    min_item=ages[0]\n",
    "    for num in ages:\n",
    "        if num < min_item:\n",
    "            min_item=num\n",
    "    return min_item     \n",
    "\n",
    "ages.remove(oldest(ages))\n",
    "ages.remove(youngest(ages))\n",
    "\n",
    "print (ages)"
   ]
  },
  {
   "cell_type": "code",
   "execution_count": 40,
   "metadata": {},
   "outputs": [
    {
     "name": "stdout",
     "output_type": "stream",
     "text": [
      "[15, 13, 16, 18, 19, 10]\n"
     ]
    }
   ],
   "source": [
    "#Exercise 18 (13 The task is to create an other list with the common ages.) V1 NESTED LOOPS [13, 15, 19, 18, 10, 16]\n",
    "\n",
    "berlin = [15, 13, 16, 18, 19, 10, 12 ]\n",
    "munich = [7, 13, 15, 20, 19, 18, 10, 16]\n",
    "new_list=[]\n",
    "\n",
    "def special_list(list_1,list_2,list_3):\n",
    "    #outer loop\n",
    "    for j in list_1:\n",
    "        #inner loop\n",
    "        for g in list_2:\n",
    "            if g==j:\n",
    "                list_3.append(j)\n",
    "    print(list_3) \n",
    "    return\n",
    "    \n",
    "\n",
    "special_list(berlin,munich,new_list)\n",
    "\n",
    "\n"
   ]
  },
  {
   "cell_type": "code",
   "execution_count": 122,
   "metadata": {},
   "outputs": [
    {
     "name": "stdout",
     "output_type": "stream",
     "text": [
      "{10, 13, 15, 16, 18, 19}\n"
     ]
    }
   ],
   "source": [
    "#Exercise 18 13 V2 #.intersection , set   common list =[conditions of intersections]\n",
    "\n",
    "berlin = [15, 13, 16, 18, 19, 10, 12 ]\n",
    "munich = [7, 13, 15, 20, 19, 18, 10, 16]\n",
    "def new_list(list_1,list_2):\n",
    "    set_1=set(list_1)\n",
    "    set_2=set(list_2)\n",
    "    print(set_1.intersection(set_2))\n",
    "    return\n",
    "new_list(berlin,munich)\n",
    "    "
   ]
  },
  {
   "cell_type": "code",
   "execution_count": 39,
   "metadata": {},
   "outputs": [
    {
     "name": "stdout",
     "output_type": "stream",
     "text": [
      "[13, 16, 18, 19, 15, 10]\n"
     ]
    }
   ],
   "source": [
    "#Exercise 18 (14 Remove the duplicates)\n",
    "ages=[15,13,16,18,19,15,10]\n",
    "def remove_dupl(list_n):\n",
    "    for j in ages:\n",
    "        i=0\n",
    "        while i<=len(ages)-1:\n",
    "            if j==ages[i]:\n",
    "                ages.remove(j)\n",
    "                print(ages)\n",
    "            break\n",
    "\n",
    "remove_dupl(ages)\n",
    "    \n"
   ]
  },
  {
   "cell_type": "code",
   "execution_count": 112,
   "metadata": {},
   "outputs": [
    {
     "name": "stdout",
     "output_type": "stream",
     "text": [
      "False\n",
      "False\n",
      "False\n",
      "False\n",
      "False\n",
      "False\n",
      "True\n"
     ]
    }
   ],
   "source": [
    "# Exercise 19 v1\n",
    "ages=[15, 13, 16, 18, 19, 10, 12]\n",
    "def find(list_n,value_n):\n",
    "    i=0\n",
    "    while i<=len(list_n)-1:\n",
    "        if value_n==list_n[i]:\n",
    "            print(\"True\")\n",
    "        else:\n",
    "            print(\"False\")\n",
    "        i=i+1\n",
    "\n",
    "    \n",
    "\n",
    "find(ages,12)\n"
   ]
  },
  {
   "cell_type": "code",
   "execution_count": 1,
   "metadata": {},
   "outputs": [
    {
     "name": "stdout",
     "output_type": "stream",
     "text": [
      "FALSE\n",
      "TRUE\n",
      "FALSE\n"
     ]
    }
   ],
   "source": [
    "# Exercise 19 v2\n",
    "ages=[15, 13, 16, 18, 19, 10, 12]\n",
    "def find(list_n,value_n):\n",
    "    if value_n in list_n:\n",
    "        print(\"TRUE\")\n",
    "    else:print(\"FALSE\")\n",
    "\n",
    "find(ages,130)\n",
    "find(ages,18)\n",
    "find(ages,45)"
   ]
  }
 ],
 "metadata": {
  "kernelspec": {
   "display_name": "Python 3.10.7 64-bit",
   "language": "python",
   "name": "python3"
  },
  "language_info": {
   "codemirror_mode": {
    "name": "ipython",
    "version": 3
   },
   "file_extension": ".py",
   "mimetype": "text/x-python",
   "name": "python",
   "nbconvert_exporter": "python",
   "pygments_lexer": "ipython3",
   "version": "3.10.7"
  },
  "orig_nbformat": 4,
  "vscode": {
   "interpreter": {
    "hash": "aee8b7b246df8f9039afb4144a1f6fd8d2ca17a180786b69acc140d282b71a49"
   }
  }
 },
 "nbformat": 4,
 "nbformat_minor": 2
}
