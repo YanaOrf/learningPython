{
 "cells": [
  {
   "cell_type": "code",
   "execution_count": 26,
   "metadata": {},
   "outputs": [],
   "source": [
    "import numpy as np\n",
    "import statistics as stats"
   ]
  },
  {
   "cell_type": "code",
   "execution_count": 9,
   "metadata": {},
   "outputs": [
    {
     "name": "stdout",
     "output_type": "stream",
     "text": [
      "7.694153624668538\n"
     ]
    }
   ],
   "source": [
    "#Exr 1 (SAMPLE)\n",
    "my_array = np.array([8,12,16,24,4])\n",
    "st_deviation=np.std(my_array, ddof=1)\n",
    "print(st_deviation)\n",
    "\n",
    "#the sum of deviations of individual data points from their mean=0"
   ]
  },
  {
   "cell_type": "code",
   "execution_count": 13,
   "metadata": {},
   "outputs": [
    {
     "name": "stdout",
     "output_type": "stream",
     "text": [
      "6.881860213634101\n"
     ]
    }
   ],
   "source": [
    "#Exr 1 (POPULATION)\n",
    "my_array = np.array([8,12,16,24,4])\n",
    "st_deviation=np.std(my_array)\n",
    "print(st_deviation)\n",
    "\n",
    "#the sum of deviations of individual data points from their mean=0"
   ]
  },
  {
   "cell_type": "code",
   "execution_count": 32,
   "metadata": {},
   "outputs": [
    {
     "name": "stdout",
     "output_type": "stream",
     "text": [
      "27.0\n",
      "29\n",
      "27.88421052631579\n"
     ]
    }
   ],
   "source": [
    "#Exr 4\n",
    "my_array=np.array([10, 10, 10, 10, 11, 11, 12, 13, 14, \n",
    "15, 15, 15, 16, 16, 16, 16, 16, 17, 18, 19, 19,\n",
    "20, 20, 20, 21, 21, 21, 21, 21, 22, 22, 22, 23, 23, 23, 24, 24, 24,\n",
    "26, 26, 26, 26, 26, 26, 26, 27, 27, 27, 27, 29, 29, 29, 29, 29, 29, 29, 29, 29,\n",
    "30, 30, 30, 30, 30, 31, 31, 32, 32, 33, 33, 34, 34,\n",
    "35, 35, 35, 37, 37, 37, 37, 39, 39, 39,\n",
    "40, 40, 43, 43, 44, 44,\n",
    "46, 46, 46, 47, 49,\n",
    "52, 53, 54])\n",
    "print(np.median(my_array))\n",
    "print(stats.mode(my_array))\n",
    "print(np.mean(my_array))\n",
    "\n"
   ]
  },
  {
   "cell_type": "code",
   "execution_count": 42,
   "metadata": {},
   "outputs": [
    {
     "name": "stdout",
     "output_type": "stream",
     "text": [
      "15.5\n",
      "15\n",
      "20.5\n"
     ]
    }
   ],
   "source": [
    "my_array = np.array([8,12,16,24,4,34,15,15,55,22])\n",
    "print(np.median(my_array))\n",
    "print(stats.mode(my_array))\n",
    "print(np.mean(my_array))"
   ]
  },
  {
   "cell_type": "code",
   "execution_count": 43,
   "metadata": {},
   "outputs": [
    {
     "name": "stdout",
     "output_type": "stream",
     "text": [
      "15.5\n",
      "15\n",
      "20.6\n"
     ]
    }
   ],
   "source": [
    "my_array = np.array([9,12,16,24,4,34,15,15,55,22])\n",
    "print(np.median(my_array))\n",
    "print(stats.mode(my_array))\n",
    "print(np.mean(my_array))"
   ]
  },
  {
   "cell_type": "code",
   "execution_count": 51,
   "metadata": {},
   "outputs": [
    {
     "name": "stdout",
     "output_type": "stream",
     "text": [
      "10.44030650891055\n",
      "40.0\n",
      "39.0\n"
     ]
    }
   ],
   "source": [
    "#Exr 9\n",
    "my_array = np.array([25,25,25,40,40,35,50,50,50,50])\n",
    "st_deviation=np.std(my_array, )\n",
    "print(st_deviation)\n",
    "print(np.median(my_array))\n",
    "print(np.mean(my_array))\n"
   ]
  },
  {
   "cell_type": "code",
   "execution_count": 52,
   "metadata": {},
   "outputs": [
    {
     "name": "stdout",
     "output_type": "stream",
     "text": [
      "1.21.5\n",
      "blas_mkl_info:\n",
      "    libraries = ['mkl_rt', 'pthread']\n",
      "    library_dirs = ['/Users/Yanaorfin/opt/anaconda3/lib']\n",
      "    define_macros = [('SCIPY_MKL_H', None), ('HAVE_CBLAS', None)]\n",
      "    include_dirs = ['/Users/Yanaorfin/opt/anaconda3/include']\n",
      "blas_opt_info:\n",
      "    libraries = ['mkl_rt', 'pthread']\n",
      "    library_dirs = ['/Users/Yanaorfin/opt/anaconda3/lib']\n",
      "    define_macros = [('SCIPY_MKL_H', None), ('HAVE_CBLAS', None)]\n",
      "    include_dirs = ['/Users/Yanaorfin/opt/anaconda3/include']\n",
      "lapack_mkl_info:\n",
      "    libraries = ['mkl_rt', 'pthread']\n",
      "    library_dirs = ['/Users/Yanaorfin/opt/anaconda3/lib']\n",
      "    define_macros = [('SCIPY_MKL_H', None), ('HAVE_CBLAS', None)]\n",
      "    include_dirs = ['/Users/Yanaorfin/opt/anaconda3/include']\n",
      "lapack_opt_info:\n",
      "    libraries = ['mkl_rt', 'pthread']\n",
      "    library_dirs = ['/Users/Yanaorfin/opt/anaconda3/lib']\n",
      "    define_macros = [('SCIPY_MKL_H', None), ('HAVE_CBLAS', None)]\n",
      "    include_dirs = ['/Users/Yanaorfin/opt/anaconda3/include']\n",
      "Supported SIMD extensions in this NumPy install:\n",
      "    baseline = SSE,SSE2,SSE3\n",
      "    found = SSSE3,SSE41,POPCNT,SSE42,AVX,F16C,FMA3,AVX2\n",
      "    not found = AVX512F,AVX512CD,AVX512_KNL,AVX512_SKX,AVX512_CLX,AVX512_CNL,AVX512_ICL\n",
      "None\n"
     ]
    }
   ],
   "source": [
    "#Exr 1\n",
    "print(np.__version__)\n",
    "print(np.show_config())"
   ]
  },
  {
   "cell_type": "code",
   "execution_count": 55,
   "metadata": {},
   "outputs": [
    {
     "name": "stdout",
     "output_type": "stream",
     "text": [
      "[0. 0. 0. 0. 0. 0. 0. 0. 0. 0.]\n"
     ]
    }
   ],
   "source": [
    "#Exr 2 Create a null vector of size 10\n",
    "def zero_vector(n_values):\n",
    "    new_array=np.zeros(n_values)\n",
    "    return new_array\n",
    "\n",
    "print(zero_vector(10))"
   ]
  },
  {
   "cell_type": "code",
   "execution_count": 63,
   "metadata": {},
   "outputs": [
    {
     "name": "stdout",
     "output_type": "stream",
     "text": [
      "The size is 10\n",
      "The size of memory of one item - 8 bytes\n",
      "The size of memory is - 80 bytes\n"
     ]
    }
   ],
   "source": [
    "#Exr 3-4 How to find the memory size of any array\n",
    "my_array = np.array([25,25,25,40,40,35,50,50,50,50])\n",
    "print(\"The size is\",my_array.size)\n",
    "print(\"The size of memory of one item -\",my_array.itemsize,\"bytes\")\n",
    "print(\"The size of memory is -\",my_array.itemsize*my_array.size,\"bytes\")\n"
   ]
  },
  {
   "cell_type": "code",
   "execution_count": null,
   "metadata": {},
   "outputs": [],
   "source": [
    "#Exr 5 How to get the documentation of the numpy add function from the command line? (★☆☆)"
   ]
  },
  {
   "cell_type": "code",
   "execution_count": 67,
   "metadata": {},
   "outputs": [
    {
     "name": "stdout",
     "output_type": "stream",
     "text": [
      "[0 0 0 0 1 0 0 0 0 0]\n"
     ]
    }
   ],
   "source": [
    "#Exr 6 Create a null vector of size 10 but the fifth value which is 1 (★☆☆)\n",
    "\n",
    "def zero_vector(n_values,item_position,x_item):\n",
    "   \n",
    "    new_array=np.where(np.arange(n_values)==item_position-1,x_item,0)\n",
    "    return new_array\n",
    "\n",
    "print(zero_vector(10,5,1))"
   ]
  },
  {
   "cell_type": "code",
   "execution_count": null,
   "metadata": {},
   "outputs": [],
   "source": [
    "my_array = np.array()\n",
    "np.arange(my_array,3)"
   ]
  },
  {
   "cell_type": "code",
   "execution_count": 71,
   "metadata": {},
   "outputs": [
    {
     "name": "stdout",
     "output_type": "stream",
     "text": [
      "[10 11 12 13 14 15 16 17 18 19 20 21 22 23 24 25 26 27 28 29 30 31 32 33\n",
      " 34 35 36 37 38 39 40 41 42 43 44 45 46 47 48]\n"
     ]
    }
   ],
   "source": [
    "#7 Create a vector with values ranging from 10 to 49 (★☆☆)\n",
    "new_array=np.arange(10,49)\n",
    "print(new_array)"
   ]
  },
  {
   "cell_type": "code",
   "execution_count": 96,
   "metadata": {},
   "outputs": [
    {
     "name": "stdout",
     "output_type": "stream",
     "text": [
      "[15 14 13 12 11 10]\n",
      "[15 14 13 12 11 10]\n"
     ]
    }
   ],
   "source": [
    "#8. Reverse a vector (first element becomes last) (★☆☆)\n",
    "\n",
    "#new_array=np.arange(49,10,-1)\n",
    "#print(new_array)\n",
    "\n",
    "current_array=np.array([10, 11, 12, 13, 14, 15])\n",
    "\n",
    "\n",
    "print(current_array[::-1])\n",
    "reve=np.flip(current_array)\n",
    "print(reve)"
   ]
  },
  {
   "cell_type": "code",
   "execution_count": null,
   "metadata": {},
   "outputs": [],
   "source": [
    "#9. Create a 3x3 matrix with values ranging from 0 to 8\n",
    "\n",
    "#def new_matrix(count_level,first_item,last_item):\n",
    "    x=np.matrix()"
   ]
  }
 ],
 "metadata": {
  "kernelspec": {
   "display_name": "Python 3.9.12 ('base')",
   "language": "python",
   "name": "python3"
  },
  "language_info": {
   "codemirror_mode": {
    "name": "ipython",
    "version": 3
   },
   "file_extension": ".py",
   "mimetype": "text/x-python",
   "name": "python",
   "nbconvert_exporter": "python",
   "pygments_lexer": "ipython3",
   "version": "3.9.12"
  },
  "orig_nbformat": 4,
  "vscode": {
   "interpreter": {
    "hash": "4f338e99f52e5b6bee008873ae50057d4cf1f168c9cfc1cf280b04b08b9f750d"
   }
  }
 },
 "nbformat": 4,
 "nbformat_minor": 2
}
