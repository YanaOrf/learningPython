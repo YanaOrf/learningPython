{
 "cells": [
  {
   "cell_type": "code",
   "execution_count": null,
   "metadata": {},
   "outputs": [],
   "source": [
    "#Q1\n",
    "from datetime import date\n",
    "\n",
    "\n",
    "ages=[1999, 1995, 2005, 2010, 2007, 2006, 1994, 1996, 1979, 2008]\n",
    "current_year=date.today().year\n",
    "def age(list_n):\n",
    "    for x in list_n:\n",
    "        print(current_year-x)\n",
    "\n",
    "        #new_list=list((current_year-x)) Why it doesn't work?\n",
    "        #print(new_list)\n",
    "    return\n",
    "\n",
    "age(ages)\n",
    "#set_result=set[result]\n"
   ]
  },
  {
   "cell_type": "code",
   "execution_count": 2,
   "metadata": {},
   "outputs": [
    {
     "name": "stdout",
     "output_type": "stream",
     "text": [
      "[20, 24, 14, 12, 13, 25, 23, 40, 11]\n"
     ]
    }
   ],
   "source": [
    "#Q2\n",
    "from os import remove\n",
    "\n",
    "\n",
    "ages=[20, 24, 14, 9, 12, 13, 25, 23, 40, 11]\n",
    "def normal_age(list_n):\n",
    "    min_age=min(list_n)\n",
    "    max_age=max(list_n)\n",
    "    list_n.remove(min_age)\n",
    "    #remove.list_n(min(list_n))\n",
    "    print(list_n)\n",
    "    return\n",
    "\n",
    "normal_age(ages)\n",
    "\n"
   ]
  },
  {
   "cell_type": "code",
   "execution_count": null,
   "metadata": {},
   "outputs": [],
   "source": [
    "#Q3\n"
   ]
  },
  {
   "cell_type": "code",
   "execution_count": 4,
   "metadata": {},
   "outputs": [
    {
     "name": "stdout",
     "output_type": "stream",
     "text": [
      "[15, 13, 16, 18, 19, 10]\n"
     ]
    }
   ],
   "source": [
    "#Q4\n",
    "\n",
    "values=[15,13,16,18,19,15,10]\n",
    "values_2=list(dict.fromkeys(values))\n",
    "print(values_2)"
   ]
  },
  {
   "cell_type": "code",
   "execution_count": null,
   "metadata": {},
   "outputs": [],
   "source": [
    "#Q5 the same as 19\n",
    "\n",
    "# \n",
    "\n"
   ]
  },
  {
   "cell_type": "code",
   "execution_count": null,
   "metadata": {},
   "outputs": [],
   "source": []
  }
 ],
 "metadata": {
  "kernelspec": {
   "display_name": "Python 3.10.7 64-bit",
   "language": "python",
   "name": "python3"
  },
  "language_info": {
   "codemirror_mode": {
    "name": "ipython",
    "version": 3
   },
   "file_extension": ".py",
   "mimetype": "text/x-python",
   "name": "python",
   "nbconvert_exporter": "python",
   "pygments_lexer": "ipython3",
   "version": "3.10.7"
  },
  "orig_nbformat": 4,
  "vscode": {
   "interpreter": {
    "hash": "aee8b7b246df8f9039afb4144a1f6fd8d2ca17a180786b69acc140d282b71a49"
   }
  }
 },
 "nbformat": 4,
 "nbformat_minor": 2
}
